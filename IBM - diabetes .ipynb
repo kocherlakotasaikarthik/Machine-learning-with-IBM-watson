{
 "cells": [
  {
   "cell_type": "code",
   "execution_count": 1,
   "metadata": {},
   "outputs": [],
   "source": [
    "import urllib3, requests, json\n",
    "\n",
    "# retrieve your wml_service_credentials_username, wml_service_credentials_password, and wml_service_credentials_url from the\n",
    "# Service credentials associated with your IBM Cloud Watson Machine Learning Service instance\n",
    "\n",
    "\n",
    "wml_credentials ={\n",
    "  \"username\": \"1b5dc280-d94e-4b6d-81db-0aad01ef19f9\",\n",
    "  \"password\": \"f847902e-d39f-474c-ad2c-fe38bb155f64\",\n",
    "  \"instance_id\": \"213c8e58-9bfb-46df-af14-97d995860778\",\n",
    "  \"url\": \"https://ibm-watson-ml.eu-gb.bluemix.net\"\n",
    "}"
   ]
  },
  {
   "cell_type": "code",
   "execution_count": 6,
   "metadata": {},
   "outputs": [],
   "source": [
    "import numpy as np"
   ]
  },
  {
   "cell_type": "code",
   "execution_count": 7,
   "metadata": {},
   "outputs": [],
   "source": [
    "mean = np.array([   3.84505208,  120.89453125,   69.10546875,   20.53645833,\n",
    "         79.79947917,   31.99257812,    0.4718763 ,   33.24088542])"
   ]
  },
  {
   "cell_type": "code",
   "execution_count": 8,
   "metadata": {},
   "outputs": [],
   "source": [
    "std = np.array([   3.36738361,   31.95179591,   19.34320163,   15.94182863,\n",
    "        115.16894926,    7.87902573,    0.33111282,   11.75257265])"
   ]
  },
  {
   "cell_type": "code",
   "execution_count": 9,
   "metadata": {},
   "outputs": [],
   "source": [
    "test = np.array([6, 148, 72, 35, 0, 33.6, 0.627, 50])\n",
    "z = (test - mean) / std"
   ]
  },
  {
   "cell_type": "code",
   "execution_count": 15,
   "metadata": {},
   "outputs": [],
   "source": [
    "input_values = list(z) # input values in list\n",
    "url_model = 'https://ibm-watson-ml.eu-gb.bluemix.net/v3/wml_instances/213c8e58-9bfb-46df-af14-97d995860778/published_models/c7dcf05f-8aba-404b-ac3e-277ecc0d7f1b/deployments/b89179f7-cb09-45c0-be97-05e94412a5e5/online'"
   ]
  },
  {
   "cell_type": "code",
   "execution_count": 16,
   "metadata": {},
   "outputs": [
    {
     "name": "stdout",
     "output_type": "stream",
     "text": [
      "Scoring response\n",
      "{'fields': ['prediction', 'probability'], 'values': [[1, [0.2581060376696448, 0.7418939623303552]]]}\n"
     ]
    }
   ],
   "source": [
    "headers = urllib3.util.make_headers(basic_auth='{username}:{password}'.format(username=wml_credentials['username'], password=wml_credentials['password']))\n",
    "url = '{}/v3/identity/token'.format(wml_credentials['url'])\n",
    "response = requests.get(url, headers=headers)\n",
    "mltoken = json.loads(response.text).get('token')\n",
    "\n",
    "header = {'Content-Type': 'application/json', 'Authorization': 'Bearer ' + mltoken}\n",
    "\n",
    "# NOTE: manually define and pass the array(s) of values to be scored in the next line\n",
    "payload_scoring = {\"fields\": [\"f0\", \"f1\", \"f2\", \"f3\", \"f4\", \"f5\", \"f6\", \"f7\"], \"values\": [input_values]}\n",
    "\n",
    "response_scoring = requests.post(url_model, json=payload_scoring, headers=header)\n",
    "print(\"Scoring response\")\n",
    "print(json.loads(response_scoring.text))"
   ]
  },
  {
   "cell_type": "code",
   "execution_count": null,
   "metadata": {},
   "outputs": [],
   "source": []
  }
 ],
 "metadata": {
  "kernelspec": {
   "display_name": "Python 3",
   "language": "python",
   "name": "python3"
  },
  "language_info": {
   "codemirror_mode": {
    "name": "ipython",
    "version": 3
   },
   "file_extension": ".py",
   "mimetype": "text/x-python",
   "name": "python",
   "nbconvert_exporter": "python",
   "pygments_lexer": "ipython3",
   "version": "3.6.4"
  }
 },
 "nbformat": 4,
 "nbformat_minor": 2
}
